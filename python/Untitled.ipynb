{
 "cells": [
  {
   "cell_type": "code",
   "execution_count": 36,
   "metadata": {},
   "outputs": [],
   "source": [
    "from python_holidays import holidays\n",
    "from pandas import DataFrame"
   ]
  },
  {
   "cell_type": "code",
   "execution_count": 37,
   "metadata": {},
   "outputs": [],
   "source": [
    "h = holidays.ES(years = 2018)"
   ]
  },
  {
   "cell_type": "code",
   "execution_count": 38,
   "metadata": {},
   "outputs": [],
   "source": [
    "d = [{'date':d,'name':n} for (d,n) in h.items()]"
   ]
  },
  {
   "cell_type": "code",
   "execution_count": 39,
   "metadata": {},
   "outputs": [
    {
     "data": {
      "text/html": [
       "<div>\n",
       "<style>\n",
       "    .dataframe thead tr:only-child th {\n",
       "        text-align: right;\n",
       "    }\n",
       "\n",
       "    .dataframe thead th {\n",
       "        text-align: left;\n",
       "    }\n",
       "\n",
       "    .dataframe tbody tr th {\n",
       "        vertical-align: top;\n",
       "    }\n",
       "</style>\n",
       "<table border=\"1\" class=\"dataframe\">\n",
       "  <thead>\n",
       "    <tr style=\"text-align: right;\">\n",
       "      <th></th>\n",
       "      <th>date</th>\n",
       "      <th>name</th>\n",
       "    </tr>\n",
       "  </thead>\n",
       "  <tbody>\n",
       "    <tr>\n",
       "      <th>0</th>\n",
       "      <td>2018-01-01</td>\n",
       "      <td>Año nuevo</td>\n",
       "    </tr>\n",
       "    <tr>\n",
       "      <th>1</th>\n",
       "      <td>2018-01-06</td>\n",
       "      <td>Epifanía del Señor</td>\n",
       "    </tr>\n",
       "    <tr>\n",
       "      <th>2</th>\n",
       "      <td>2018-03-30</td>\n",
       "      <td>Viernes Santo</td>\n",
       "    </tr>\n",
       "    <tr>\n",
       "      <th>3</th>\n",
       "      <td>2018-05-01</td>\n",
       "      <td>Día del Trabajador</td>\n",
       "    </tr>\n",
       "    <tr>\n",
       "      <th>4</th>\n",
       "      <td>2018-08-15</td>\n",
       "      <td>Asunción de la Virgen</td>\n",
       "    </tr>\n",
       "    <tr>\n",
       "      <th>5</th>\n",
       "      <td>2018-10-12</td>\n",
       "      <td>Día de la Hispanidad</td>\n",
       "    </tr>\n",
       "    <tr>\n",
       "      <th>6</th>\n",
       "      <td>2018-11-01</td>\n",
       "      <td>Todos los Santos</td>\n",
       "    </tr>\n",
       "    <tr>\n",
       "      <th>7</th>\n",
       "      <td>2018-12-06</td>\n",
       "      <td>Día de la constitución Española</td>\n",
       "    </tr>\n",
       "    <tr>\n",
       "      <th>8</th>\n",
       "      <td>2018-12-08</td>\n",
       "      <td>La Inmaculada Concepción</td>\n",
       "    </tr>\n",
       "    <tr>\n",
       "      <th>9</th>\n",
       "      <td>2018-12-25</td>\n",
       "      <td>Navidad</td>\n",
       "    </tr>\n",
       "  </tbody>\n",
       "</table>\n",
       "</div>"
      ],
      "text/plain": [
       "         date                             name\n",
       "0  2018-01-01                        Año nuevo\n",
       "1  2018-01-06               Epifanía del Señor\n",
       "2  2018-03-30                    Viernes Santo\n",
       "3  2018-05-01               Día del Trabajador\n",
       "4  2018-08-15            Asunción de la Virgen\n",
       "5  2018-10-12             Día de la Hispanidad\n",
       "6  2018-11-01                 Todos los Santos\n",
       "7  2018-12-06  Día de la constitución Española\n",
       "8  2018-12-08         La Inmaculada Concepción\n",
       "9  2018-12-25                          Navidad"
      ]
     },
     "execution_count": 39,
     "metadata": {},
     "output_type": "execute_result"
    }
   ],
   "source": [
    "DataFrame.from_dict(d)"
   ]
  },
  {
   "cell_type": "code",
   "execution_count": 42,
   "metadata": {
    "collapsed": true
   },
   "outputs": [],
   "source": [
    "def get_holidays(country,year):\n",
    "    if country.lower() == 'spain':\n",
    "        h = holidays.ES(years = year)\n",
    "    if country.lower() == 'australia':\n",
    "        h = holidays.AU(years = year)\n",
    "    if country.lower()\n",
    "    d = [{'date':d,'name':n} for (d,n) in h.items()]\n",
    "    r = DataFrame.from_dict(d)\n",
    "    return r\n",
    "    "
   ]
  },
  {
   "cell_type": "code",
   "execution_count": 45,
   "metadata": {
    "collapsed": true
   },
   "outputs": [],
   "source": [
    "def get_holidays(country,year):\n",
    "    country_switcher = {\n",
    "        'spain':holidays.ES(years=year),\n",
    "        'australia':holidays.AU(years=year),\n",
    "        'austria':holidays.AT(years=year),\n",
    "        'belgium':holidays.BE(years=year),\n",
    "        'canada':holidays.CA(years=year),\n",
    "        'colombia':holidays.CO(years=year),\n",
    "        'czech':holidays.CZ(years=year),\n",
    "        'denmark':holidays.AT(years=year),\n",
    "        'england':holidays.FI(years=year),\n",
    "        'finland':holidays.FI(years=year),\n",
    "    }\n",
    "    \n",
    "    d = [{'date':d,'name':n} for (d,n) in h.items()]\n",
    "    r = DataFrame.from_dict(d)\n",
    "    return r\n",
    "    "
   ]
  },
  {
   "cell_type": "code",
   "execution_count": 43,
   "metadata": {},
   "outputs": [],
   "source": [
    "h = get_holidays('australia',2018)"
   ]
  },
  {
   "cell_type": "code",
   "execution_count": 51,
   "metadata": {},
   "outputs": [],
   "source": [
    "    country_switcher = {\n",
    "        'spain':holidays.ES(years=2018)\n",
    "    }"
   ]
  },
  {
   "cell_type": "code",
   "execution_count": null,
   "metadata": {
    "collapsed": true
   },
   "outputs": [],
   "source": []
  }
 ],
 "metadata": {
  "kernelspec": {
   "display_name": "Python 3",
   "language": "python",
   "name": "python3"
  },
  "language_info": {
   "codemirror_mode": {
    "name": "ipython",
    "version": 3
   },
   "file_extension": ".py",
   "mimetype": "text/x-python",
   "name": "python",
   "nbconvert_exporter": "python",
   "pygments_lexer": "ipython3",
   "version": "3.6.3"
  }
 },
 "nbformat": 4,
 "nbformat_minor": 2
}
